{
  "nbformat": 4,
  "nbformat_minor": 0,
  "metadata": {
    "colab": {
      "name": "20210929-1.ipynb",
      "provenance": [],
      "authorship_tag": "ABX9TyOuMwu3FiB+gzQr075YL4nA",
      "include_colab_link": true
    },
    "kernelspec": {
      "name": "python3",
      "display_name": "Python 3"
    },
    "language_info": {
      "name": "python"
    }
  },
  "cells": [
    {
      "cell_type": "markdown",
      "metadata": {
        "id": "view-in-github",
        "colab_type": "text"
      },
      "source": [
        "<a href=\"https://colab.research.google.com/github/lsk2208lsk/lsk2208lsk/blob/main/20210929_1.ipynb\" target=\"_parent\"><img src=\"https://colab.research.google.com/assets/colab-badge.svg\" alt=\"Open In Colab\"/></a>"
      ]
    },
    {
      "cell_type": "code",
      "metadata": {
        "colab": {
          "base_uri": "https://localhost:8080/"
        },
        "id": "Vz30TWeG_A_f",
        "outputId": "15267522-8edb-4ba7-8ffd-3ffe9ca1fe3d"
      },
      "source": [
        "import random\n",
        "import time\n",
        "\n",
        "num = random.randrange(1,3)\n",
        "\n",
        "print(num)"
      ],
      "execution_count": null,
      "outputs": [
        {
          "output_type": "stream",
          "name": "stdout",
          "text": [
            "54\n"
          ]
        }
      ]
    },
    {
      "cell_type": "code",
      "metadata": {
        "colab": {
          "base_uri": "https://localhost:8080/"
        },
        "id": "M6E2vMz1_jJy",
        "outputId": "a48608ff-77fc-4d4a-f6c0-99e95101cafd"
      },
      "source": [
        "count = 0\n",
        "\n",
        "while count < 11:\n",
        "    print(count, end=' ')\n",
        "    count = count + 1"
      ],
      "execution_count": null,
      "outputs": [
        {
          "output_type": "stream",
          "name": "stdout",
          "text": [
            "0 1 2 3 4 5 6 7 8 9 10 "
          ]
        }
      ]
    },
    {
      "cell_type": "code",
      "metadata": {
        "id": "r22LB8E0BX7J"
      },
      "source": [
        "import time\n",
        "\n",
        "while True:\n",
        "    print('a', end=' ')\n",
        "    time.sleep(3)"
      ],
      "execution_count": null,
      "outputs": []
    },
    {
      "cell_type": "code",
      "metadata": {
        "id": "FFV0BAhkB0zL"
      },
      "source": [
        "import random\n",
        "import time\n",
        "\n",
        "mywin = 0\n",
        "comwin = 0\n",
        "\n",
        "while True:\n",
        "    num = random.randrange(1,4) # 1은 주먹, 2는 바위, 3은 보\n",
        "    if num==1:\n",
        "        mywin = mywin + 1\n",
        "    elif num==3:\n",
        "        comwin = comwin + 1\n",
        "    print('김도경 : {0}, 컴퓨터 : {1}'.format(mywin,comwin))\n",
        "    time.sleep(1)"
      ],
      "execution_count": null,
      "outputs": []
    },
    {
      "cell_type": "code",
      "metadata": {
        "id": "mnBijv3_Fx1C"
      },
      "source": [
        "while True:\n",
        "    print('*'*18)\n",
        "    print('* 가위바위보게임 *')\n",
        "    print('*'*18)\n",
        "    print('1.가위')\n",
        "    print('2.바위')\n",
        "    print('3.보')\n",
        "    mynum = int(input('입력->'))\n",
        "    comnum = random.randrange(1,4)\n",
        "\n",
        "    if mynum == comnum:\n",
        "        print('비김')\n",
        "    elif mynum ==1 and comnum ==3:\n",
        "        print('이겼다')\n",
        "    elif mynum ==2 and comnum ==1:\n",
        "        print('이겼다')\n",
        "    elif mynum ==3 and comnum ==2:\n",
        "        print('이겼다')\n",
        "    elif mynum ==3 and comnum ==1:\n",
        "        print('졌다')\n",
        "    elif mynum ==1 and comnum ==2:\n",
        "        print('졌다')\n",
        "    elif mynum ==2 and comnum ==3:\n",
        "        print('졌다')"
      ],
      "execution_count": null,
      "outputs": []
    }
  ]
}