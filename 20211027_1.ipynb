{
  "nbformat": 4,
  "nbformat_minor": 0,
  "metadata": {
    "colab": {
      "name": "20211027-1.ipynb",
      "provenance": [],
      "authorship_tag": "ABX9TyPQrsGTvl837WoOJ3t76qXh",
      "include_colab_link": true
    },
    "kernelspec": {
      "name": "python3",
      "display_name": "Python 3"
    },
    "language_info": {
      "name": "python"
    }
  },
  "cells": [
    {
      "cell_type": "markdown",
      "metadata": {
        "id": "view-in-github",
        "colab_type": "text"
      },
      "source": [
        "<a href=\"https://colab.research.google.com/github/lsk2208lsk/lsk2208lsk/blob/main/20211027_1.ipynb\" target=\"_parent\"><img src=\"https://colab.research.google.com/assets/colab-badge.svg\" alt=\"Open In Colab\"/></a>"
      ]
    },
    {
      "cell_type": "code",
      "metadata": {
        "colab": {
          "base_uri": "https://localhost:8080/"
        },
        "id": "c5927PMDdpeX",
        "outputId": "aa8d8c7e-b725-4bcc-c648-d3827439791e"
      },
      "source": [
        "num = int(input(\"입력:\"))\n",
        "\n",
        "for i in range(1, num+1):\n",
        "    if num % i == 0:\n",
        "        print(i, end=\" \")\n",
        "count = 0\n",
        "for i in range(1,num+1):\n",
        "    if num%i == 0:\n",
        "        count = count + 1\n",
        "print('입력하신 {0}는 약수의 개수가 {1}개입니다'.format(num,count))"
      ],
      "execution_count": null,
      "outputs": [
        {
          "output_type": "stream",
          "name": "stdout",
          "text": [
            "입력:12\n",
            "1 2 3 4 6 12 입력하신 12는 약수의 개수가 6개입니다\n"
          ]
        }
      ]
    }
  ]
}