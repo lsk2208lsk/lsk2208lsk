{
  "nbformat": 4,
  "nbformat_minor": 0,
  "metadata": {
    "colab": {
      "name": "20210927-1.ipynb",
      "provenance": [],
      "authorship_tag": "ABX9TyOGhHzj1ctqTbzAfotYAHNB",
      "include_colab_link": true
    },
    "kernelspec": {
      "name": "python3",
      "display_name": "Python 3"
    },
    "language_info": {
      "name": "python"
    }
  },
  "cells": [
    {
      "cell_type": "markdown",
      "metadata": {
        "id": "view-in-github",
        "colab_type": "text"
      },
      "source": [
        "<a href=\"https://colab.research.google.com/github/lsk2208lsk/lsk2208lsk/blob/main/20210927_1.ipynb\" target=\"_parent\"><img src=\"https://colab.research.google.com/assets/colab-badge.svg\" alt=\"Open In Colab\"/></a>"
      ]
    },
    {
      "cell_type": "code",
      "metadata": {
        "colab": {
          "base_uri": "https://localhost:8080/"
        },
        "id": "dRvmhog6szoX",
        "outputId": "24e6f2c1-7560-492a-a51e-c77b562ca53e"
      },
      "source": [
        "num = 10\n",
        "\n",
        "for i in range(1,11):\n",
        "    if num%i == 0 :\n",
        "        print(i, end=' ')"
      ],
      "execution_count": null,
      "outputs": [
        {
          "output_type": "stream",
          "name": "stdout",
          "text": [
            "1 2 5 10 "
          ]
        }
      ]
    },
    {
      "cell_type": "code",
      "metadata": {
        "colab": {
          "base_uri": "https://localhost:8080/"
        },
        "id": "ByfgHjW4u11Z",
        "outputId": "142409e7-2945-4ce1-f251-5ee07ad97eaf"
      },
      "source": [
        "num = 100\n",
        "\n",
        "for i in range(1,num+1):\n",
        "    if num%i == 0 :\n",
        "        print(i, end=' ')"
      ],
      "execution_count": null,
      "outputs": [
        {
          "output_type": "stream",
          "name": "stdout",
          "text": [
            "1 2 4 5 10 20 25 50 100 "
          ]
        }
      ]
    },
    {
      "cell_type": "code",
      "metadata": {
        "colab": {
          "base_uri": "https://localhost:8080/"
        },
        "id": "vJt-1UIhvXkn",
        "outputId": "44530537-63d0-4fc4-e186-1d937381c38a"
      },
      "source": [
        "num = int(input(\"값을 입력하세요:\"))\n",
        "\n",
        "for i in range(1,num+1):\n",
        "    if num%i == 0 :\n",
        "        print(i, end=' ')"
      ],
      "execution_count": null,
      "outputs": [
        {
          "output_type": "stream",
          "name": "stdout",
          "text": [
            "값을 입력하세요:595\n",
            "1 5 7 17 35 85 119 595 "
          ]
        }
      ]
    },
    {
      "cell_type": "code",
      "metadata": {
        "colab": {
          "base_uri": "https://localhost:8080/"
        },
        "id": "BYhV6J0ivxy4",
        "outputId": "b7284bee-ea32-4c25-d3be-5ac4ea56799e"
      },
      "source": [
        "num = 10\n",
        "count = 0\n",
        "\n",
        "for i in range(1,num+1):\n",
        "    if num%i == 0 :\n",
        "        count = count + 1\n",
        "\n",
        "print(count)"
      ],
      "execution_count": null,
      "outputs": [
        {
          "output_type": "stream",
          "name": "stdout",
          "text": [
            "4\n"
          ]
        }
      ]
    },
    {
      "cell_type": "code",
      "metadata": {
        "colab": {
          "base_uri": "https://localhost:8080/"
        },
        "id": "rQ5taNt4wU-n",
        "outputId": "c2d09b66-7e66-45aa-96f5-d49d2bf91cad"
      },
      "source": [
        "num = int(input(\"값을 입력하세요:\"))\n",
        "count = 0\n",
        "\n",
        "for i in range(1,num+1):\n",
        "    if num%i == 0 :\n",
        "        count = count + 1\n",
        "\n",
        "print('입력하신 {0}의 약수의 개수는 {1}개 입니다.'.format(num, count))"
      ],
      "execution_count": null,
      "outputs": [
        {
          "output_type": "stream",
          "name": "stdout",
          "text": [
            "값을 입력하세요:24\n",
            "입력하신 24의 약수의 개수는 8개 입니다.\n"
          ]
        }
      ]
    },
    {
      "cell_type": "code",
      "metadata": {
        "id": "3uaTmar7yyoe"
      },
      "source": [
        "num = int(input(\"값을 입력하세요:\"))\n",
        "count = 0\n",
        "\n",
        "for i in range(1,num+1):\n",
        "    if num%i == 0 :\n",
        "        count = count + 1\n",
        "\n",
        "if count ==2:\n",
        "    print('소수입니다')\n",
        "else:\n",
        "    pirnt('소수가 아닙니다')"
      ],
      "execution_count": null,
      "outputs": []
    },
    {
      "cell_type": "code",
      "metadata": {
        "id": "-N0n337xz9Cd"
      },
      "source": [
        ""
      ],
      "execution_count": null,
      "outputs": []
    }
  ]
}