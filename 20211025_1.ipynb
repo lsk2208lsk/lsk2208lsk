{
  "nbformat": 4,
  "nbformat_minor": 0,
  "metadata": {
    "colab": {
      "name": "20211025-1.ipynb",
      "provenance": [],
      "authorship_tag": "ABX9TyOt0wTbBxwVJ/fvY3yNgJKg",
      "include_colab_link": true
    },
    "kernelspec": {
      "name": "python3",
      "display_name": "Python 3"
    },
    "language_info": {
      "name": "python"
    }
  },
  "cells": [
    {
      "cell_type": "markdown",
      "metadata": {
        "id": "view-in-github",
        "colab_type": "text"
      },
      "source": [
        "<a href=\"https://colab.research.google.com/github/lsk2208lsk/lsk2208lsk/blob/main/20211025_1.ipynb\" target=\"_parent\"><img src=\"https://colab.research.google.com/assets/colab-badge.svg\" alt=\"Open In Colab\"/></a>"
      ]
    },
    {
      "cell_type": "code",
      "metadata": {
        "id": "Gn2G71RprJsH"
      },
      "source": [
        "def solution(n):\n",
        "    sum = 0\n",
        "    while n>=1:\n",
        "        sum = sum + (n%10)\n",
        "        n = n // 10\n",
        "    return sum"
      ],
      "execution_count": null,
      "outputs": []
    },
    {
      "cell_type": "code",
      "metadata": {
        "colab": {
          "base_uri": "https://localhost:8080/"
        },
        "id": "Y-4EqS-UuW5F",
        "outputId": "17e3a64c-5a8a-426c-c823-268ae75d0bb4"
      },
      "source": [
        "print(solution(327235665764))"
      ],
      "execution_count": null,
      "outputs": [
        {
          "output_type": "stream",
          "name": "stdout",
          "text": [
            "56\n"
          ]
        }
      ]
    }
  ]
}